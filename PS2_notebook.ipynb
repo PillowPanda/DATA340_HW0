{
 "cells": [
  {
   "cell_type": "markdown",
   "id": "b23081c5-00cb-4b04-854a-770770c7ea11",
   "metadata": {},
   "source": [
    "The primary objective of this exploratory data analysis (EDA) project is to uncover insights from Hillary Clinton's emails using NLP and statistical methods. The project aims to:\n",
    "\n",
    "1) Identify the common topics discussed using TF-IDF\n",
    "2) Understand the network of senders and recipients to identify key figures and their relationships.\n",
    "   Explore the frequency and patterns of email communications over time.\n"
   ]
  },
  {
   "cell_type": "markdown",
   "id": "1ea27e3d-8d8e-460d-bbfd-f180045a7d4b",
   "metadata": {},
   "source": [
    "**Data Cleaning and Preprocessing:** This initial step involves cleaning the dataset for analysis, including handling missing values, removing duplicates, and standardizing date formats. NLP-specific preprocessing will also be necessary, such as tokenization, removing stopwords, and lemmatization.\n",
    "\n",
    "**Exploratory Data Analysis:** Employing statistical and visualization techniques to summarize the dataset's main characteristics. This includes analyzing the distribution of emails over time, the most frequent senders and recipients, and the length of emails.\n",
    "\n",
    "**TF-IDF:** Using NLP techniques such as TF-IDF or count vectorization generate a list of the five TF-IDF terms that best describe the emails. This can provide insights into the main topics and themes discussed in the emails.\n",
    "\n",
    "**Temporal Analysis:** Investigate how email communications change over time, identify any patterns or anomalies in the volume of emails sent and received, and correlate these with external events or timelines.\n"
   ]
  },
  {
   "cell_type": "markdown",
   "id": "3c8db02f-67f3-4512-aeed-2c7887e79d25",
   "metadata": {},
   "source": [
    "**Import pandas**"
   ]
  },
  {
   "cell_type": "code",
<<<<<<< HEAD
   "execution_count": 3,
=======
   "execution_count": 1,
>>>>>>> a180feffff1e6760f48328b2313af05da3366fd5
   "id": "49f88a30-cfdc-4ba0-b5b7-ffbe889b4293",
   "metadata": {},
   "outputs": [],
   "source": [
    "import pandas as pd"
   ]
  },
  {
   "cell_type": "markdown",
   "id": "0e7d9c9e-b294-4b33-a3f5-2aa8e9dbb376",
   "metadata": {},
   "source": [
    "**Read csv file**"
   ]
  },
  {
   "cell_type": "code",
<<<<<<< HEAD
   "execution_count": 4,
=======
   "execution_count": 3,
>>>>>>> a180feffff1e6760f48328b2313af05da3366fd5
   "id": "f4f75e37-a67d-4adb-81ef-dd04b4822a4f",
   "metadata": {},
   "outputs": [],
   "source": [
    "emails = pd.read_csv(\"Emails.csv\")"
   ]
  },
  {
<<<<<<< HEAD
   "cell_type": "code",
   "execution_count": 5,
   "id": "93e97982-0233-4a8a-afd1-fa5c2570488a",
=======
   "cell_type": "markdown",
   "id": "b05f892a-129e-4b37-aaaa-89a520ffb93c",
   "metadata": {},
   "source": [
    "**(1a) Data Cleaning: General** "
   ]
  },
  {
   "cell_type": "markdown",
   "id": "b5db4d0d-79de-4a39-b68e-7fbfb62b162c",
   "metadata": {},
   "source": [
    "Handling Missing Values"
   ]
  },
  {
   "cell_type": "code",
   "execution_count": 8,
   "id": "aaf37df5-6336-49ce-b346-004642ff307e",
   "metadata": {},
   "outputs": [],
   "source": [
    "emails.fillna('null', inplace=True)"
   ]
  },
  {
   "cell_type": "code",
   "execution_count": 9,
   "id": "71d90a17",
>>>>>>> a180feffff1e6760f48328b2313af05da3366fd5
   "metadata": {},
   "outputs": [
    {
     "data": {
      "text/html": [
       "<div>\n",
       "<style scoped>\n",
       "    .dataframe tbody tr th:only-of-type {\n",
       "        vertical-align: middle;\n",
       "    }\n",
       "\n",
       "    .dataframe tbody tr th {\n",
       "        vertical-align: top;\n",
       "    }\n",
       "\n",
       "    .dataframe thead th {\n",
       "        text-align: right;\n",
       "    }\n",
       "</style>\n",
       "<table border=\"1\" class=\"dataframe\">\n",
       "  <thead>\n",
       "    <tr style=\"text-align: right;\">\n",
       "      <th></th>\n",
       "      <th>Id</th>\n",
       "      <th>DocNumber</th>\n",
       "      <th>MetadataSubject</th>\n",
       "      <th>MetadataTo</th>\n",
       "      <th>MetadataFrom</th>\n",
       "      <th>SenderPersonId</th>\n",
       "      <th>MetadataDateSent</th>\n",
       "      <th>MetadataDateReleased</th>\n",
       "      <th>MetadataPdfLink</th>\n",
       "      <th>MetadataCaseNumber</th>\n",
       "      <th>...</th>\n",
       "      <th>ExtractedTo</th>\n",
       "      <th>ExtractedFrom</th>\n",
       "      <th>ExtractedCc</th>\n",
       "      <th>ExtractedDateSent</th>\n",
       "      <th>ExtractedCaseNumber</th>\n",
       "      <th>ExtractedDocNumber</th>\n",
       "      <th>ExtractedDateReleased</th>\n",
       "      <th>ExtractedReleaseInPartOrFull</th>\n",
       "      <th>ExtractedBodyText</th>\n",
       "      <th>RawText</th>\n",
       "    </tr>\n",
       "  </thead>\n",
       "  <tbody>\n",
       "    <tr>\n",
       "      <th>0</th>\n",
       "      <td>1</td>\n",
       "      <td>C05739545</td>\n",
       "      <td>WOW</td>\n",
       "      <td>H</td>\n",
       "      <td>Sullivan, Jacob J</td>\n",
       "      <td>87.0</td>\n",
       "      <td>2012-09-12T04:00:00+00:00</td>\n",
       "      <td>2015-05-22T04:00:00+00:00</td>\n",
       "      <td>DOCUMENTS/HRC_Email_1_296/HRCH2/DOC_0C05739545...</td>\n",
       "      <td>F-2015-04841</td>\n",
       "      <td>...</td>\n",
<<<<<<< HEAD
       "      <td>NaN</td>\n",
       "      <td>Sullivan, Jacob J &lt;Sullivan11@state.gov&gt;</td>\n",
       "      <td>NaN</td>\n",
=======
       "      <td>null</td>\n",
       "      <td>Sullivan, Jacob J &lt;Sullivan11@state.gov&gt;</td>\n",
       "      <td>null</td>\n",
>>>>>>> a180feffff1e6760f48328b2313af05da3366fd5
       "      <td>Wednesday, September 12, 2012 10:16 AM</td>\n",
       "      <td>F-2015-04841</td>\n",
       "      <td>C05739545</td>\n",
       "      <td>05/13/2015</td>\n",
       "      <td>RELEASE IN FULL</td>\n",
<<<<<<< HEAD
       "      <td>NaN</td>\n",
       "      <td>UNCLASSIFIED\\nU.S. Department of State\\nCase N...</td>\n",
=======
       "      <td>null</td>\n",
       "      <td>UNCLASSIFIED\\r\\nU.S. Department of State\\r\\nCa...</td>\n",
>>>>>>> a180feffff1e6760f48328b2313af05da3366fd5
       "    </tr>\n",
       "    <tr>\n",
       "      <th>1</th>\n",
       "      <td>2</td>\n",
       "      <td>C05739546</td>\n",
       "      <td>H: LATEST: HOW SYRIA IS AIDING QADDAFI AND MOR...</td>\n",
       "      <td>H</td>\n",
<<<<<<< HEAD
       "      <td>NaN</td>\n",
       "      <td>NaN</td>\n",
=======
       "      <td>null</td>\n",
       "      <td>null</td>\n",
>>>>>>> a180feffff1e6760f48328b2313af05da3366fd5
       "      <td>2011-03-03T05:00:00+00:00</td>\n",
       "      <td>2015-05-22T04:00:00+00:00</td>\n",
       "      <td>DOCUMENTS/HRC_Email_1_296/HRCH1/DOC_0C05739546...</td>\n",
       "      <td>F-2015-04841</td>\n",
       "      <td>...</td>\n",
<<<<<<< HEAD
       "      <td>NaN</td>\n",
       "      <td>NaN</td>\n",
       "      <td>NaN</td>\n",
       "      <td>NaN</td>\n",
=======
       "      <td>null</td>\n",
       "      <td>null</td>\n",
       "      <td>null</td>\n",
       "      <td>null</td>\n",
>>>>>>> a180feffff1e6760f48328b2313af05da3366fd5
       "      <td>F-2015-04841</td>\n",
       "      <td>C05739546</td>\n",
       "      <td>05/13/2015</td>\n",
       "      <td>RELEASE IN PART</td>\n",
<<<<<<< HEAD
       "      <td>B6\\nThursday, March 3, 2011 9:45 PM\\nH: Latest...</td>\n",
       "      <td>UNCLASSIFIED\\nU.S. Department of State\\nCase N...</td>\n",
=======
       "      <td>B6\\r\\nThursday, March 3, 2011 9:45 PM\\r\\nH: La...</td>\n",
       "      <td>UNCLASSIFIED\\r\\nU.S. Department of State\\r\\nCa...</td>\n",
>>>>>>> a180feffff1e6760f48328b2313af05da3366fd5
       "    </tr>\n",
       "    <tr>\n",
       "      <th>2</th>\n",
       "      <td>3</td>\n",
       "      <td>C05739547</td>\n",
       "      <td>CHRIS STEVENS</td>\n",
       "      <td>;H</td>\n",
       "      <td>Mills, Cheryl D</td>\n",
       "      <td>32.0</td>\n",
       "      <td>2012-09-12T04:00:00+00:00</td>\n",
       "      <td>2015-05-22T04:00:00+00:00</td>\n",
       "      <td>DOCUMENTS/HRC_Email_1_296/HRCH2/DOC_0C05739547...</td>\n",
       "      <td>F-2015-04841</td>\n",
       "      <td>...</td>\n",
       "      <td>B6</td>\n",
       "      <td>Mills, Cheryl D &lt;MillsCD@state.gov&gt;</td>\n",
       "      <td>Abedin, Huma</td>\n",
       "      <td>Wednesday, September 12, 2012 11:52 AM</td>\n",
       "      <td>F-2015-04841</td>\n",
       "      <td>C05739547</td>\n",
       "      <td>05/14/2015</td>\n",
       "      <td>RELEASE IN PART</td>\n",
       "      <td>Thx</td>\n",
<<<<<<< HEAD
       "      <td>UNCLASSIFIED\\nU.S. Department of State\\nCase N...</td>\n",
=======
       "      <td>UNCLASSIFIED\\r\\nU.S. Department of State\\r\\nCa...</td>\n",
>>>>>>> a180feffff1e6760f48328b2313af05da3366fd5
       "    </tr>\n",
       "    <tr>\n",
       "      <th>3</th>\n",
       "      <td>4</td>\n",
       "      <td>C05739550</td>\n",
       "      <td>CAIRO CONDEMNATION - FINAL</td>\n",
       "      <td>H</td>\n",
       "      <td>Mills, Cheryl D</td>\n",
       "      <td>32.0</td>\n",
       "      <td>2012-09-12T04:00:00+00:00</td>\n",
       "      <td>2015-05-22T04:00:00+00:00</td>\n",
       "      <td>DOCUMENTS/HRC_Email_1_296/HRCH2/DOC_0C05739550...</td>\n",
       "      <td>F-2015-04841</td>\n",
       "      <td>...</td>\n",
<<<<<<< HEAD
       "      <td>NaN</td>\n",
=======
       "      <td>null</td>\n",
>>>>>>> a180feffff1e6760f48328b2313af05da3366fd5
       "      <td>Mills, Cheryl D &lt;MillsCD@state.gov&gt;</td>\n",
       "      <td>Mitchell, Andrew B</td>\n",
       "      <td>Wednesday, September 12,2012 12:44 PM</td>\n",
       "      <td>F-2015-04841</td>\n",
       "      <td>C05739550</td>\n",
       "      <td>05/13/2015</td>\n",
       "      <td>RELEASE IN PART</td>\n",
<<<<<<< HEAD
       "      <td>NaN</td>\n",
       "      <td>UNCLASSIFIED\\nU.S. Department of State\\nCase N...</td>\n",
=======
       "      <td>null</td>\n",
       "      <td>UNCLASSIFIED\\r\\nU.S. Department of State\\r\\nCa...</td>\n",
>>>>>>> a180feffff1e6760f48328b2313af05da3366fd5
       "    </tr>\n",
       "    <tr>\n",
       "      <th>4</th>\n",
       "      <td>5</td>\n",
       "      <td>C05739554</td>\n",
       "      <td>H: LATEST: HOW SYRIA IS AIDING QADDAFI AND MOR...</td>\n",
       "      <td>Abedin, Huma</td>\n",
       "      <td>H</td>\n",
       "      <td>80.0</td>\n",
       "      <td>2011-03-11T05:00:00+00:00</td>\n",
       "      <td>2015-05-22T04:00:00+00:00</td>\n",
       "      <td>DOCUMENTS/HRC_Email_1_296/HRCH1/DOC_0C05739554...</td>\n",
       "      <td>F-2015-04841</td>\n",
       "      <td>...</td>\n",
<<<<<<< HEAD
       "      <td>NaN</td>\n",
       "      <td>NaN</td>\n",
       "      <td>NaN</td>\n",
       "      <td>NaN</td>\n",
=======
       "      <td>null</td>\n",
       "      <td>null</td>\n",
       "      <td>null</td>\n",
       "      <td>null</td>\n",
>>>>>>> a180feffff1e6760f48328b2313af05da3366fd5
       "      <td>F-2015-04841</td>\n",
       "      <td>C05739554</td>\n",
       "      <td>05/13/2015</td>\n",
       "      <td>RELEASE IN PART</td>\n",
<<<<<<< HEAD
       "      <td>H &lt;hrod17@clintonemail.com&gt;\\nFriday, March 11,...</td>\n",
       "      <td>B6\\nUNCLASSIFIED\\nU.S. Department of State\\nCa...</td>\n",
=======
       "      <td>H &lt;hrod17@clintonemail.com&gt;\\r\\nFriday, March 1...</td>\n",
       "      <td>B6\\r\\nUNCLASSIFIED\\r\\nU.S. Department of State...</td>\n",
>>>>>>> a180feffff1e6760f48328b2313af05da3366fd5
       "    </tr>\n",
       "    <tr>\n",
       "      <th>...</th>\n",
       "      <td>...</td>\n",
       "      <td>...</td>\n",
       "      <td>...</td>\n",
       "      <td>...</td>\n",
       "      <td>...</td>\n",
       "      <td>...</td>\n",
       "      <td>...</td>\n",
       "      <td>...</td>\n",
       "      <td>...</td>\n",
       "      <td>...</td>\n",
       "      <td>...</td>\n",
       "      <td>...</td>\n",
       "      <td>...</td>\n",
       "      <td>...</td>\n",
       "      <td>...</td>\n",
       "      <td>...</td>\n",
       "      <td>...</td>\n",
       "      <td>...</td>\n",
       "      <td>...</td>\n",
       "      <td>...</td>\n",
       "      <td>...</td>\n",
       "    </tr>\n",
       "    <tr>\n",
       "      <th>7940</th>\n",
       "      <td>7941</td>\n",
       "      <td>C05778462</td>\n",
       "      <td>WYDEN</td>\n",
       "      <td>H</td>\n",
       "      <td>Verma, Richard R</td>\n",
       "      <td>180.0</td>\n",
       "      <td>2010-12-16T05:00:00+00:00</td>\n",
       "      <td>2015-08-31T04:00:00+00:00</td>\n",
       "      <td>DOCUMENTS/HRCEmail_August_Web/IPS-0113/DOC_0C0...</td>\n",
       "      <td>F-2014-20439</td>\n",
       "      <td>...</td>\n",
<<<<<<< HEAD
       "      <td>NaN</td>\n",
       "      <td>Verma, Richard R &lt;VermaRR@state.gov&gt;</td>\n",
       "      <td>NaN</td>\n",
=======
       "      <td>null</td>\n",
       "      <td>Verma, Richard R &lt;VermaRR@state.gov&gt;</td>\n",
       "      <td>null</td>\n",
>>>>>>> a180feffff1e6760f48328b2313af05da3366fd5
       "      <td>Thursday, December 16, 2010 7:41 PM</td>\n",
       "      <td>F-2014-20439</td>\n",
       "      <td>C05778462</td>\n",
       "      <td>08/31/2015</td>\n",
       "      <td>RELEASE IN PART</td>\n",
<<<<<<< HEAD
       "      <td>NaN</td>\n",
=======
       "      <td>null</td>\n",
>>>>>>> a180feffff1e6760f48328b2313af05da3366fd5
       "      <td>UNCLASSIFIED U.S. Department of State Case No....</td>\n",
       "    </tr>\n",
       "    <tr>\n",
       "      <th>7941</th>\n",
       "      <td>7942</td>\n",
       "      <td>C05778463</td>\n",
       "      <td>SENATE</td>\n",
       "      <td>H</td>\n",
       "      <td>Verma, Richard R</td>\n",
       "      <td>180.0</td>\n",
       "      <td>2010-12-16T05:00:00+00:00</td>\n",
       "      <td>2015-08-31T04:00:00+00:00</td>\n",
       "      <td>DOCUMENTS/HRCEmail_August_Web/IPS-0113/DOC_0C0...</td>\n",
       "      <td>F-2014-20439</td>\n",
       "      <td>...</td>\n",
<<<<<<< HEAD
       "      <td>NaN</td>\n",
=======
       "      <td>null</td>\n",
>>>>>>> a180feffff1e6760f48328b2313af05da3366fd5
       "      <td>Verma, Richard R &lt;VermaRR@state.gov&gt;</td>\n",
       "      <td>Sullivan, Jacob J; Mills, Cheryl D; Abedin, Huma</td>\n",
       "      <td>Thursday, December 16, 2010 8:09 PM</td>\n",
       "      <td>F-2014-20439</td>\n",
       "      <td>C05778463</td>\n",
       "      <td>08/31/2015</td>\n",
       "      <td>RELEASE IN FULL</td>\n",
       "      <td>Big change of plans in the Senate. Senator Rei...</td>\n",
       "      <td>UNCLASSIFIED U.S. Department of State Case No....</td>\n",
       "    </tr>\n",
       "    <tr>\n",
       "      <th>7942</th>\n",
       "      <td>7943</td>\n",
       "      <td>C05778465</td>\n",
       "      <td>RICHARD (TNR)</td>\n",
       "      <td>H</td>\n",
       "      <td>Jiloty, Lauren C</td>\n",
       "      <td>116.0</td>\n",
       "      <td>2010-12-16T05:00:00+00:00</td>\n",
       "      <td>2015-08-31T04:00:00+00:00</td>\n",
       "      <td>DOCUMENTS/HRCEmail_August_Web/IPS-0113/DOC_0C0...</td>\n",
       "      <td>F-2014-20439</td>\n",
       "      <td>...</td>\n",
<<<<<<< HEAD
       "      <td>NaN</td>\n",
       "      <td>Jiloty, Lauren C &lt;JilotyLC@state.gov&gt;</td>\n",
       "      <td>NaN</td>\n",
=======
       "      <td>null</td>\n",
       "      <td>Jiloty, Lauren C &lt;JilotyLC@state.gov&gt;</td>\n",
       "      <td>null</td>\n",
>>>>>>> a180feffff1e6760f48328b2313af05da3366fd5
       "      <td>Thursday, December 16, 2010 10:52 PM</td>\n",
       "      <td>F-2014-20439</td>\n",
       "      <td>C05778465</td>\n",
       "      <td>08/31/2015</td>\n",
       "      <td>RELEASE IN PART</td>\n",
<<<<<<< HEAD
       "      <td>NaN</td>\n",
=======
       "      <td>null</td>\n",
>>>>>>> a180feffff1e6760f48328b2313af05da3366fd5
       "      <td>UNCLASSIFIED U.S. Department of State Case No....</td>\n",
       "    </tr>\n",
       "    <tr>\n",
       "      <th>7943</th>\n",
       "      <td>7944</td>\n",
       "      <td>C05778466</td>\n",
       "      <td>FROM</td>\n",
       "      <td>H</td>\n",
       "      <td>PVerveer</td>\n",
       "      <td>143.0</td>\n",
       "      <td>2012-12-17T05:00:00+00:00</td>\n",
       "      <td>2015-08-31T04:00:00+00:00</td>\n",
       "      <td>DOCUMENTS/HRCEmail_August_Web/IPS-0113/DOC_0C0...</td>\n",
       "      <td>F-2014-20439</td>\n",
       "      <td>...</td>\n",
       "      <td>PVervee,</td>\n",
<<<<<<< HEAD
       "      <td>NaN</td>\n",
       "      <td>NaN</td>\n",
=======
       "      <td>null</td>\n",
       "      <td>null</td>\n",
>>>>>>> a180feffff1e6760f48328b2313af05da3366fd5
       "      <td>12/14/201</td>\n",
       "      <td>F-2014-20439</td>\n",
       "      <td>C05778466</td>\n",
       "      <td>08/31/2015</td>\n",
       "      <td>RELEASE IN PART</td>\n",
<<<<<<< HEAD
       "      <td>PVerveer B6\\nFriday, December 17, 2010 12:12 A...</td>\n",
       "      <td>Hi dear Melanne and Alyse,\\nHope this email re...</td>\n",
=======
       "      <td>PVerveer B6\\r\\nFriday, December 17, 2010 12:12...</td>\n",
       "      <td>Hi dear Melanne and Alyse,\\r\\nHope this email ...</td>\n",
>>>>>>> a180feffff1e6760f48328b2313af05da3366fd5
       "    </tr>\n",
       "    <tr>\n",
       "      <th>7944</th>\n",
       "      <td>7945</td>\n",
       "      <td>C05778470</td>\n",
       "      <td>NOTE FOR SECRETARY CLINTON</td>\n",
       "      <td>H</td>\n",
       "      <td>Sullivan, Jacob J</td>\n",
       "      <td>87.0</td>\n",
       "      <td>2010-12-17T05:00:00+00:00</td>\n",
       "      <td>2015-08-31T04:00:00+00:00</td>\n",
       "      <td>DOCUMENTS/HRCEmail_August_Web/IPS-0113/DOC_0C0...</td>\n",
       "      <td>F-2014-20439</td>\n",
       "      <td>...</td>\n",
<<<<<<< HEAD
       "      <td>NaN</td>\n",
=======
       "      <td>null</td>\n",
>>>>>>> a180feffff1e6760f48328b2313af05da3366fd5
       "      <td>Sullivan, Jacob J &lt;SullivanJJ@state.gov&gt;</td>\n",
       "      <td>Abedin, Huma</td>\n",
       "      <td>Friday, December 17, 2010 10:42 AM</td>\n",
       "      <td>F-2014-20439</td>\n",
       "      <td>C05778470</td>\n",
       "      <td>08/31/2015</td>\n",
       "      <td>RELEASE IN FULL</td>\n",
       "      <td>See below.</td>\n",
       "      <td>UNCLASSIFIED U.S. Department of State Case No....</td>\n",
       "    </tr>\n",
       "  </tbody>\n",
       "</table>\n",
       "<p>7945 rows × 22 columns</p>\n",
       "</div>"
      ],
      "text/plain": [
       "        Id  DocNumber                                    MetadataSubject  \\\n",
       "0        1  C05739545                                                WOW   \n",
       "1        2  C05739546  H: LATEST: HOW SYRIA IS AIDING QADDAFI AND MOR...   \n",
       "2        3  C05739547                                      CHRIS STEVENS   \n",
       "3        4  C05739550                         CAIRO CONDEMNATION - FINAL   \n",
       "4        5  C05739554  H: LATEST: HOW SYRIA IS AIDING QADDAFI AND MOR...   \n",
       "...    ...        ...                                                ...   \n",
       "7940  7941  C05778462                                              WYDEN   \n",
       "7941  7942  C05778463                                             SENATE   \n",
       "7942  7943  C05778465                                      RICHARD (TNR)   \n",
       "7943  7944  C05778466                                              FROM    \n",
       "7944  7945  C05778470                         NOTE FOR SECRETARY CLINTON   \n",
       "\n",
<<<<<<< HEAD
       "        MetadataTo       MetadataFrom  SenderPersonId  \\\n",
       "0                H  Sullivan, Jacob J            87.0   \n",
       "1                H                NaN             NaN   \n",
       "2               ;H    Mills, Cheryl D            32.0   \n",
       "3                H    Mills, Cheryl D            32.0   \n",
       "4     Abedin, Huma                  H            80.0   \n",
       "...            ...                ...             ...   \n",
       "7940             H   Verma, Richard R           180.0   \n",
       "7941             H   Verma, Richard R           180.0   \n",
       "7942             H   Jiloty, Lauren C           116.0   \n",
       "7943             H           PVerveer           143.0   \n",
       "7944             H  Sullivan, Jacob J            87.0   \n",
=======
       "        MetadataTo       MetadataFrom SenderPersonId  \\\n",
       "0                H  Sullivan, Jacob J           87.0   \n",
       "1                H               null           null   \n",
       "2               ;H    Mills, Cheryl D           32.0   \n",
       "3                H    Mills, Cheryl D           32.0   \n",
       "4     Abedin, Huma                  H           80.0   \n",
       "...            ...                ...            ...   \n",
       "7940             H   Verma, Richard R          180.0   \n",
       "7941             H   Verma, Richard R          180.0   \n",
       "7942             H   Jiloty, Lauren C          116.0   \n",
       "7943             H           PVerveer          143.0   \n",
       "7944             H  Sullivan, Jacob J           87.0   \n",
>>>>>>> a180feffff1e6760f48328b2313af05da3366fd5
       "\n",
       "               MetadataDateSent       MetadataDateReleased  \\\n",
       "0     2012-09-12T04:00:00+00:00  2015-05-22T04:00:00+00:00   \n",
       "1     2011-03-03T05:00:00+00:00  2015-05-22T04:00:00+00:00   \n",
       "2     2012-09-12T04:00:00+00:00  2015-05-22T04:00:00+00:00   \n",
       "3     2012-09-12T04:00:00+00:00  2015-05-22T04:00:00+00:00   \n",
       "4     2011-03-11T05:00:00+00:00  2015-05-22T04:00:00+00:00   \n",
       "...                         ...                        ...   \n",
       "7940  2010-12-16T05:00:00+00:00  2015-08-31T04:00:00+00:00   \n",
       "7941  2010-12-16T05:00:00+00:00  2015-08-31T04:00:00+00:00   \n",
       "7942  2010-12-16T05:00:00+00:00  2015-08-31T04:00:00+00:00   \n",
       "7943  2012-12-17T05:00:00+00:00  2015-08-31T04:00:00+00:00   \n",
       "7944  2010-12-17T05:00:00+00:00  2015-08-31T04:00:00+00:00   \n",
       "\n",
       "                                        MetadataPdfLink MetadataCaseNumber  \\\n",
       "0     DOCUMENTS/HRC_Email_1_296/HRCH2/DOC_0C05739545...       F-2015-04841   \n",
       "1     DOCUMENTS/HRC_Email_1_296/HRCH1/DOC_0C05739546...       F-2015-04841   \n",
       "2     DOCUMENTS/HRC_Email_1_296/HRCH2/DOC_0C05739547...       F-2015-04841   \n",
       "3     DOCUMENTS/HRC_Email_1_296/HRCH2/DOC_0C05739550...       F-2015-04841   \n",
       "4     DOCUMENTS/HRC_Email_1_296/HRCH1/DOC_0C05739554...       F-2015-04841   \n",
       "...                                                 ...                ...   \n",
       "7940  DOCUMENTS/HRCEmail_August_Web/IPS-0113/DOC_0C0...       F-2014-20439   \n",
       "7941  DOCUMENTS/HRCEmail_August_Web/IPS-0113/DOC_0C0...       F-2014-20439   \n",
       "7942  DOCUMENTS/HRCEmail_August_Web/IPS-0113/DOC_0C0...       F-2014-20439   \n",
       "7943  DOCUMENTS/HRCEmail_August_Web/IPS-0113/DOC_0C0...       F-2014-20439   \n",
       "7944  DOCUMENTS/HRCEmail_August_Web/IPS-0113/DOC_0C0...       F-2014-20439   \n",
       "\n",
       "      ... ExtractedTo                             ExtractedFrom  \\\n",
<<<<<<< HEAD
       "0     ...         NaN  Sullivan, Jacob J <Sullivan11@state.gov>   \n",
       "1     ...         NaN                                       NaN   \n",
       "2     ...          B6       Mills, Cheryl D <MillsCD@state.gov>   \n",
       "3     ...         NaN       Mills, Cheryl D <MillsCD@state.gov>   \n",
       "4     ...         NaN                                       NaN   \n",
       "...   ...         ...                                       ...   \n",
       "7940  ...         NaN      Verma, Richard R <VermaRR@state.gov>   \n",
       "7941  ...         NaN      Verma, Richard R <VermaRR@state.gov>   \n",
       "7942  ...         NaN     Jiloty, Lauren C <JilotyLC@state.gov>   \n",
       "7943  ...    PVervee,                                       NaN   \n",
       "7944  ...         NaN  Sullivan, Jacob J <SullivanJJ@state.gov>   \n",
       "\n",
       "                                           ExtractedCc  \\\n",
       "0                                                  NaN   \n",
       "1                                                  NaN   \n",
       "2                                         Abedin, Huma   \n",
       "3                                   Mitchell, Andrew B   \n",
       "4                                                  NaN   \n",
       "...                                                ...   \n",
       "7940                                               NaN   \n",
       "7941  Sullivan, Jacob J; Mills, Cheryl D; Abedin, Huma   \n",
       "7942                                               NaN   \n",
       "7943                                               NaN   \n",
=======
       "0     ...        null  Sullivan, Jacob J <Sullivan11@state.gov>   \n",
       "1     ...        null                                      null   \n",
       "2     ...          B6       Mills, Cheryl D <MillsCD@state.gov>   \n",
       "3     ...        null       Mills, Cheryl D <MillsCD@state.gov>   \n",
       "4     ...        null                                      null   \n",
       "...   ...         ...                                       ...   \n",
       "7940  ...        null      Verma, Richard R <VermaRR@state.gov>   \n",
       "7941  ...        null      Verma, Richard R <VermaRR@state.gov>   \n",
       "7942  ...        null     Jiloty, Lauren C <JilotyLC@state.gov>   \n",
       "7943  ...    PVervee,                                      null   \n",
       "7944  ...        null  Sullivan, Jacob J <SullivanJJ@state.gov>   \n",
       "\n",
       "                                           ExtractedCc  \\\n",
       "0                                                 null   \n",
       "1                                                 null   \n",
       "2                                         Abedin, Huma   \n",
       "3                                   Mitchell, Andrew B   \n",
       "4                                                 null   \n",
       "...                                                ...   \n",
       "7940                                              null   \n",
       "7941  Sullivan, Jacob J; Mills, Cheryl D; Abedin, Huma   \n",
       "7942                                              null   \n",
       "7943                                              null   \n",
>>>>>>> a180feffff1e6760f48328b2313af05da3366fd5
       "7944                                      Abedin, Huma   \n",
       "\n",
       "                           ExtractedDateSent ExtractedCaseNumber  \\\n",
       "0     Wednesday, September 12, 2012 10:16 AM        F-2015-04841   \n",
<<<<<<< HEAD
       "1                                        NaN        F-2015-04841   \n",
       "2     Wednesday, September 12, 2012 11:52 AM        F-2015-04841   \n",
       "3      Wednesday, September 12,2012 12:44 PM        F-2015-04841   \n",
       "4                                        NaN        F-2015-04841   \n",
=======
       "1                                       null        F-2015-04841   \n",
       "2     Wednesday, September 12, 2012 11:52 AM        F-2015-04841   \n",
       "3      Wednesday, September 12,2012 12:44 PM        F-2015-04841   \n",
       "4                                       null        F-2015-04841   \n",
>>>>>>> a180feffff1e6760f48328b2313af05da3366fd5
       "...                                      ...                 ...   \n",
       "7940     Thursday, December 16, 2010 7:41 PM        F-2014-20439   \n",
       "7941     Thursday, December 16, 2010 8:09 PM        F-2014-20439   \n",
       "7942    Thursday, December 16, 2010 10:52 PM        F-2014-20439   \n",
       "7943                               12/14/201        F-2014-20439   \n",
       "7944      Friday, December 17, 2010 10:42 AM        F-2014-20439   \n",
       "\n",
       "     ExtractedDocNumber ExtractedDateReleased ExtractedReleaseInPartOrFull  \\\n",
       "0             C05739545            05/13/2015              RELEASE IN FULL   \n",
       "1             C05739546            05/13/2015              RELEASE IN PART   \n",
       "2             C05739547            05/14/2015              RELEASE IN PART   \n",
       "3             C05739550            05/13/2015              RELEASE IN PART   \n",
       "4             C05739554            05/13/2015              RELEASE IN PART   \n",
       "...                 ...                   ...                          ...   \n",
       "7940          C05778462            08/31/2015              RELEASE IN PART   \n",
       "7941          C05778463            08/31/2015              RELEASE IN FULL   \n",
       "7942          C05778465            08/31/2015              RELEASE IN PART   \n",
       "7943          C05778466            08/31/2015              RELEASE IN PART   \n",
       "7944          C05778470            08/31/2015              RELEASE IN FULL   \n",
       "\n",
       "                                      ExtractedBodyText  \\\n",
<<<<<<< HEAD
       "0                                                   NaN   \n",
       "1     B6\\nThursday, March 3, 2011 9:45 PM\\nH: Latest...   \n",
       "2                                                   Thx   \n",
       "3                                                   NaN   \n",
       "4     H <hrod17@clintonemail.com>\\nFriday, March 11,...   \n",
       "...                                                 ...   \n",
       "7940                                                NaN   \n",
       "7941  Big change of plans in the Senate. Senator Rei...   \n",
       "7942                                                NaN   \n",
       "7943  PVerveer B6\\nFriday, December 17, 2010 12:12 A...   \n",
       "7944                                         See below.   \n",
       "\n",
       "                                                RawText  \n",
       "0     UNCLASSIFIED\\nU.S. Department of State\\nCase N...  \n",
       "1     UNCLASSIFIED\\nU.S. Department of State\\nCase N...  \n",
       "2     UNCLASSIFIED\\nU.S. Department of State\\nCase N...  \n",
       "3     UNCLASSIFIED\\nU.S. Department of State\\nCase N...  \n",
       "4     B6\\nUNCLASSIFIED\\nU.S. Department of State\\nCa...  \n",
=======
       "0                                                  null   \n",
       "1     B6\\r\\nThursday, March 3, 2011 9:45 PM\\r\\nH: La...   \n",
       "2                                                   Thx   \n",
       "3                                                  null   \n",
       "4     H <hrod17@clintonemail.com>\\r\\nFriday, March 1...   \n",
       "...                                                 ...   \n",
       "7940                                               null   \n",
       "7941  Big change of plans in the Senate. Senator Rei...   \n",
       "7942                                               null   \n",
       "7943  PVerveer B6\\r\\nFriday, December 17, 2010 12:12...   \n",
       "7944                                         See below.   \n",
       "\n",
       "                                                RawText  \n",
       "0     UNCLASSIFIED\\r\\nU.S. Department of State\\r\\nCa...  \n",
       "1     UNCLASSIFIED\\r\\nU.S. Department of State\\r\\nCa...  \n",
       "2     UNCLASSIFIED\\r\\nU.S. Department of State\\r\\nCa...  \n",
       "3     UNCLASSIFIED\\r\\nU.S. Department of State\\r\\nCa...  \n",
       "4     B6\\r\\nUNCLASSIFIED\\r\\nU.S. Department of State...  \n",
>>>>>>> a180feffff1e6760f48328b2313af05da3366fd5
       "...                                                 ...  \n",
       "7940  UNCLASSIFIED U.S. Department of State Case No....  \n",
       "7941  UNCLASSIFIED U.S. Department of State Case No....  \n",
       "7942  UNCLASSIFIED U.S. Department of State Case No....  \n",
<<<<<<< HEAD
       "7943  Hi dear Melanne and Alyse,\\nHope this email re...  \n",
=======
       "7943  Hi dear Melanne and Alyse,\\r\\nHope this email ...  \n",
>>>>>>> a180feffff1e6760f48328b2313af05da3366fd5
       "7944  UNCLASSIFIED U.S. Department of State Case No....  \n",
       "\n",
       "[7945 rows x 22 columns]"
      ]
     },
<<<<<<< HEAD
     "execution_count": 5,
=======
     "execution_count": 9,
>>>>>>> a180feffff1e6760f48328b2313af05da3366fd5
     "metadata": {},
     "output_type": "execute_result"
    }
   ],
   "source": [
    "emails"
   ]
  },
  {
   "cell_type": "markdown",
<<<<<<< HEAD
   "id": "b05f892a-129e-4b37-aaaa-89a520ffb93c",
   "metadata": {},
   "source": [
    "**(1a) Data Cleaning: General** "
   ]
  },
  {
   "cell_type": "markdown",
   "id": "b5db4d0d-79de-4a39-b68e-7fbfb62b162c",
   "metadata": {},
   "source": [
    "Handling Missing Values"
   ]
  },
  {
   "cell_type": "code",
   "execution_count": null,
   "id": "aaf37df5-6336-49ce-b346-004642ff307e",
   "metadata": {},
   "outputs": [],
   "source": []
  },
  {
   "cell_type": "markdown",
=======
>>>>>>> a180feffff1e6760f48328b2313af05da3366fd5
   "id": "fa288bba-63ee-4ddf-8a67-03e14bb6c262",
   "metadata": {},
   "source": [
    "Removing Duplicates"
   ]
  },
  {
   "cell_type": "code",
<<<<<<< HEAD
   "execution_count": null,
   "id": "4107ea5c-e83a-4433-9667-46e17d6304d2",
   "metadata": {},
   "outputs": [],
   "source": []
=======
   "execution_count": 7,
   "id": "4107ea5c-e83a-4433-9667-46e17d6304d2",
   "metadata": {},
   "outputs": [],
   "source": [
    "# Detect and display duplicate rows based on all columns\n",
    "duplicate_rows = emails[emails.duplicated()]"
   ]
  },
  {
   "cell_type": "code",
   "execution_count": 6,
   "id": "bc60c7de",
   "metadata": {},
   "outputs": [
    {
     "data": {
      "text/html": [
       "<div>\n",
       "<style scoped>\n",
       "    .dataframe tbody tr th:only-of-type {\n",
       "        vertical-align: middle;\n",
       "    }\n",
       "\n",
       "    .dataframe tbody tr th {\n",
       "        vertical-align: top;\n",
       "    }\n",
       "\n",
       "    .dataframe thead th {\n",
       "        text-align: right;\n",
       "    }\n",
       "</style>\n",
       "<table border=\"1\" class=\"dataframe\">\n",
       "  <thead>\n",
       "    <tr style=\"text-align: right;\">\n",
       "      <th></th>\n",
       "      <th>Id</th>\n",
       "      <th>DocNumber</th>\n",
       "      <th>MetadataSubject</th>\n",
       "      <th>MetadataTo</th>\n",
       "      <th>MetadataFrom</th>\n",
       "      <th>SenderPersonId</th>\n",
       "      <th>MetadataDateSent</th>\n",
       "      <th>MetadataDateReleased</th>\n",
       "      <th>MetadataPdfLink</th>\n",
       "      <th>MetadataCaseNumber</th>\n",
       "      <th>...</th>\n",
       "      <th>ExtractedTo</th>\n",
       "      <th>ExtractedFrom</th>\n",
       "      <th>ExtractedCc</th>\n",
       "      <th>ExtractedDateSent</th>\n",
       "      <th>ExtractedCaseNumber</th>\n",
       "      <th>ExtractedDocNumber</th>\n",
       "      <th>ExtractedDateReleased</th>\n",
       "      <th>ExtractedReleaseInPartOrFull</th>\n",
       "      <th>ExtractedBodyText</th>\n",
       "      <th>RawText</th>\n",
       "    </tr>\n",
       "  </thead>\n",
       "  <tbody>\n",
       "  </tbody>\n",
       "</table>\n",
       "<p>0 rows × 22 columns</p>\n",
       "</div>"
      ],
      "text/plain": [
       "Empty DataFrame\n",
       "Columns: [Id, DocNumber, MetadataSubject, MetadataTo, MetadataFrom, SenderPersonId, MetadataDateSent, MetadataDateReleased, MetadataPdfLink, MetadataCaseNumber, MetadataDocumentClass, ExtractedSubject, ExtractedTo, ExtractedFrom, ExtractedCc, ExtractedDateSent, ExtractedCaseNumber, ExtractedDocNumber, ExtractedDateReleased, ExtractedReleaseInPartOrFull, ExtractedBodyText, RawText]\n",
       "Index: []\n",
       "\n",
       "[0 rows x 22 columns]"
      ]
     },
     "execution_count": 6,
     "metadata": {},
     "output_type": "execute_result"
    }
   ],
   "source": [
    "duplicate_rows"
   ]
>>>>>>> a180feffff1e6760f48328b2313af05da3366fd5
  },
  {
   "cell_type": "markdown",
   "id": "81fa8f3c-302b-4176-a4eb-89bc768da2b0",
   "metadata": {},
   "source": [
    "Standardizing Date Formats"
   ]
  },
  {
   "cell_type": "code",
   "execution_count": null,
   "id": "b35c31da-e6fc-4694-ac90-504b107867c8",
   "metadata": {},
   "outputs": [],
   "source": []
  },
  {
   "cell_type": "markdown",
   "id": "4569da49-94ec-49d9-9ac6-af6048967f06",
   "metadata": {},
   "source": [
    "**(1b) NLP Specific Processing**"
   ]
  },
  {
   "cell_type": "markdown",
   "id": "88b624d4-2d8f-48d0-ac0d-44638a57f8d1",
   "metadata": {},
   "source": [
    "Tokenization"
   ]
  },
  {
   "cell_type": "code",
   "execution_count": null,
   "id": "ed60f3c9-2a82-4d92-837f-fd6d16a1d0b9",
   "metadata": {},
   "outputs": [],
   "source": []
  },
  {
   "cell_type": "markdown",
   "id": "6ab55128-19b7-4537-8799-bf1aa151ce61",
   "metadata": {},
   "source": [
    "Removing Stopwords"
   ]
  },
  {
   "cell_type": "code",
   "execution_count": null,
   "id": "389e435f-ab99-4717-9998-34896d8e94f0",
   "metadata": {},
   "outputs": [],
   "source": []
  },
  {
   "cell_type": "markdown",
   "id": "3f23acd9-1c22-46b1-b1ca-334fde06e2a1",
   "metadata": {},
   "source": [
    "Lemmatization"
   ]
  },
  {
   "cell_type": "code",
   "execution_count": null,
   "id": "a69cb39b-af9f-4f91-817b-b53551cb5830",
   "metadata": {},
   "outputs": [],
   "source": []
  },
  {
   "cell_type": "markdown",
   "id": "2821e008-bb2e-4a88-8783-5125ba55b6dc",
   "metadata": {},
   "source": [
    "**(2) Exploratory Data Analysis**"
   ]
  },
  {
   "cell_type": "markdown",
   "id": "81da1435-75d4-4bcd-af7b-8c9f6e4d33fd",
   "metadata": {},
   "source": [
    "Analyzing the distribution of emails over time"
   ]
  },
  {
   "cell_type": "code",
   "execution_count": null,
   "id": "0d282a6e-316f-40c2-80ff-8fa46ec97ed0",
   "metadata": {},
   "outputs": [],
   "source": []
  },
  {
   "cell_type": "markdown",
<<<<<<< HEAD
   "id": "3fcffa16-9df6-4b17-9b18-39df37ca13d7",
   "metadata": {},
   "source": [
    "Handling Missing Values"
   ]
  },
  {
   "cell_type": "code",
   "execution_count": null,
   "id": "f51f062d-cd37-4b20-a57c-cd531d811d78",
   "metadata": {},
   "outputs": [],
   "source": []
  },
  {
   "cell_type": "markdown",
=======
>>>>>>> a180feffff1e6760f48328b2313af05da3366fd5
   "id": "98cd8068-f325-4015-9583-a9c81e6b1ae3",
   "metadata": {},
   "source": [
    "Most frequent senders and recipients"
   ]
  },
  {
   "cell_type": "code",
   "execution_count": null,
   "id": "beef4051-0850-4c90-a51c-2a5078922e79",
   "metadata": {},
   "outputs": [],
   "source": []
  },
  {
   "cell_type": "markdown",
   "id": "adfdb6aa-e2d7-4be8-8536-ebeb2f4e5194",
   "metadata": {},
   "source": [
    "Length of emails"
   ]
  },
  {
   "cell_type": "code",
   "execution_count": null,
   "id": "1dff524e-e0fe-4022-b383-f3f7fbfe8192",
   "metadata": {},
   "outputs": [],
   "source": []
  },
  {
   "cell_type": "markdown",
   "id": "739475c9-4cba-48bf-8e24-a7a1e5fd618a",
   "metadata": {},
   "source": [
    "**(3) TF-IDF**"
   ]
  },
  {
   "cell_type": "markdown",
   "id": "ff13654c-71a8-4440-b07b-cd9d82a6c817",
   "metadata": {},
   "source": [
    "Using NLP techniques such as TF-IDF or count vectorization generate a list of the five TF-IDF terms that best describe the emails. "
   ]
  },
  {
   "cell_type": "code",
   "execution_count": null,
   "id": "1fb3c45f-0cb3-4abe-ab96-62261da7bbbe",
   "metadata": {},
   "outputs": [],
   "source": []
  },
  {
   "cell_type": "markdown",
   "id": "e8790c11-ecf7-4792-95c0-aecfafdb34c2",
   "metadata": {},
   "source": [
    "**(4) Temporal Analysis**"
   ]
  },
  {
   "cell_type": "markdown",
   "id": "bb9aa805-41be-4730-b8f7-0926d8129ad0",
   "metadata": {},
   "source": [
    "Investigate how email communications change over time."
   ]
  },
  {
   "cell_type": "code",
   "execution_count": null,
   "id": "7ec07e05-cf23-43c5-9397-f52dd6cd4048",
   "metadata": {},
   "outputs": [],
   "source": []
  },
  {
   "cell_type": "markdown",
   "id": "76b26397-3f07-4ceb-b8cd-c951540028e2",
   "metadata": {},
   "source": [
    "Identify any patterns or anomalies in the volume of emails sent and received."
   ]
  },
  {
   "cell_type": "code",
   "execution_count": null,
   "id": "e39edfc2-3d86-44e2-9b28-8ea6d0e13a7d",
   "metadata": {},
   "outputs": [],
   "source": []
  },
  {
   "cell_type": "markdown",
   "id": "53ab0fea-342d-4c25-ace8-ec94cb1844d3",
   "metadata": {},
   "source": [
    "Correlate these with external events or timelines."
   ]
  },
  {
   "cell_type": "code",
   "execution_count": null,
   "id": "36db2f55-b072-43c5-b362-63fdc67fc359",
   "metadata": {},
   "outputs": [],
   "source": []
  }
 ],
 "metadata": {
  "kernelspec": {
<<<<<<< HEAD
   "display_name": "Python 3 (ipykernel)",
=======
   "display_name": "Python 3",
>>>>>>> a180feffff1e6760f48328b2313af05da3366fd5
   "language": "python",
   "name": "python3"
  },
  "language_info": {
   "codemirror_mode": {
    "name": "ipython",
    "version": 3
   },
   "file_extension": ".py",
   "mimetype": "text/x-python",
   "name": "python",
   "nbconvert_exporter": "python",
   "pygments_lexer": "ipython3",
<<<<<<< HEAD
   "version": "3.11.6"
=======
   "version": "3.8.0"
>>>>>>> a180feffff1e6760f48328b2313af05da3366fd5
  }
 },
 "nbformat": 4,
 "nbformat_minor": 5
}
